{
  "nbformat": 4,
  "nbformat_minor": 0,
  "metadata": {
    "colab": {
      "name": "mask_detection.ipynb",
      "provenance": [],
      "collapsed_sections": [],
      "authorship_tag": "ABX9TyNdpJwsGxGfZn3NGfe2Fa6g",
      "include_colab_link": true
    },
    "kernelspec": {
      "name": "python3",
      "display_name": "Python 3"
    },
    "accelerator": "GPU"
  },
  "cells": [
    {
      "cell_type": "markdown",
      "metadata": {
        "id": "view-in-github",
        "colab_type": "text"
      },
      "source": [
        "<a href=\"https://colab.research.google.com/github/mukul98m/face-mask-detection/blob/master/mask_detection.ipynb\" target=\"_parent\"><img src=\"https://colab.research.google.com/assets/colab-badge.svg\" alt=\"Open In Colab\"/></a>"
      ]
    },
    {
      "cell_type": "code",
      "metadata": {
        "id": "fgTGmJHIFtBY"
      },
      "source": [
        "from google.colab import drive\n",
        "drive.mount('/content/drive')"
      ],
      "execution_count": null,
      "outputs": []
    },
    {
      "cell_type": "code",
      "metadata": {
        "id": "TSx6xFHpaE9W"
      },
      "source": [
        ""
      ],
      "execution_count": null,
      "outputs": []
    },
    {
      "cell_type": "code",
      "metadata": {
        "id": "_4F2IBbEYrAN"
      },
      "source": [
        "\n",
        "from tensorflow.keras.preprocessing.image import ImageDataGenerator\n",
        "from tensorflow.keras.applications import MobileNetV2\n",
        "from tensorflow.keras.layers import AveragePooling2D\n",
        "from tensorflow.keras.layers import Dropout\n",
        "from tensorflow.keras.layers import Flatten\n",
        "from tensorflow.keras.layers import Dense\n",
        "from tensorflow.keras.layers import Input\n",
        "from tensorflow.keras.models import Model\n",
        "from tensorflow.keras.optimizers import Adam\n",
        "from tensorflow.keras.applications.mobilenet_v2 import preprocess_input\n",
        "from tensorflow.keras.preprocessing.image import img_to_array\n",
        "from tensorflow.keras.preprocessing.image import load_img\n",
        "\n",
        "#from tensorflowf.keras.preprocessing.image.load_img\n",
        "from tensorflow.keras.utils import to_categorical\n",
        "from sklearn.preprocessing import LabelBinarizer\n",
        "from sklearn.model_selection import train_test_split\n",
        "from sklearn.metrics import classification_report\n",
        "from imutils import paths\n",
        "import matplotlib.pyplot as plt\n",
        "import numpy as np\n",
        "import os"
      ],
      "execution_count": null,
      "outputs": []
    },
    {
      "cell_type": "code",
      "metadata": {
        "id": "1X99UwnyYudi"
      },
      "source": [
        "#initialize the initial learning rate, number of epochs to train for and batch size\n",
        "INIT_LR=1e-4\n",
        "EPOCHS = 20\n",
        "BS=32\n",
        "\n",
        "DIRECTORY = \"/content/drive/MyDrive/Dataset/mask_detection/Just_mask_detection/Train\"\n",
        "CATEGORIES = ['WithMask','WithoutMask']"
      ],
      "execution_count": null,
      "outputs": []
    },
    {
      "cell_type": "code",
      "metadata": {
        "id": "mfCJsyV-iJsq"
      },
      "source": [
        "#GRAB THE LIST OF IMAGES IN OUT DATASET DIRECTORY, THEN INITIALIZE THE LIST OF DATA (I.E., IMAGES) AND CLASS IMAGES\n",
        "\n",
        "data = []\n",
        "labels = []\n",
        "\n",
        "for category in CATEGORIES: # with or iwthout\n",
        "    path= os.path.join(DIRECTORY,category) #directory with mask\n",
        "    for img in os.listdir(path):\n",
        "        img_path=os.path.join(path,img) # direct mask with images\n",
        "        image=load_img(img_path,target_size=(224,224))\n",
        "        image=img_to_array(image)\n",
        "        image=preprocess_input(image)\n",
        "        \n",
        "        data.append(image)\n",
        "        labels.append(category)\n",
        "        len(data)"
      ],
      "execution_count": null,
      "outputs": []
    },
    {
      "cell_type": "code",
      "metadata": {
        "colab": {
          "base_uri": "https://localhost:8080/"
        },
        "id": "ExK7FrcYinI2",
        "outputId": "927e4909-8dc0-4cb1-946a-3f5b4d36e6ef"
      },
      "source": [
        "len(data)"
      ],
      "execution_count": null,
      "outputs": [
        {
          "output_type": "execute_result",
          "data": {
            "text/plain": [
              "10000"
            ]
          },
          "metadata": {},
          "execution_count": 6
        }
      ]
    },
    {
      "cell_type": "code",
      "metadata": {
        "id": "0Pr6gdy4YzUq"
      },
      "source": [
        "#perform one hot encoding on the labels\n",
        "\n",
        "lb=LabelBinarizer()\n",
        "labels=lb.fit_transform(labels)\n",
        "labels=to_categorical(labels)\n",
        "\n",
        "data= np.array(data, dtype='float32')\n",
        "labels=np.array(labels)\n",
        "\n",
        "(trainX, testX, trainY, testY) = train_test_split(data,labels,test_size=0.2,stratify=labels, random_state=42) "
      ],
      "execution_count": null,
      "outputs": []
    },
    {
      "cell_type": "code",
      "metadata": {
        "id": "bt6K9XUiNLr-"
      },
      "source": [
        "# data=np.array(data)\n",
        "# labels=np.array(labels)"
      ],
      "execution_count": null,
      "outputs": []
    },
    {
      "cell_type": "code",
      "metadata": {
        "id": "XJMvwFZNNL1I"
      },
      "source": [
        "# Save test and train data for later use\n",
        "np.save('/content/drive/MyDrive/Dataset/mask_detection/Just_mask_detection/Train/data',data)\n",
        "np.save('/content/drive/MyDrive/Dataset/mask_detection/Just_mask_detection/Train/labels',labels)\n",
        "\n"
      ],
      "execution_count": null,
      "outputs": []
    },
    {
      "cell_type": "code",
      "metadata": {
        "colab": {
          "base_uri": "https://localhost:8080/"
        },
        "id": "j1NYBeZ6NQ1t",
        "outputId": "e673021c-ee1b-4bc8-8cea-283c8c18a853"
      },
      "source": [
        "2+2"
      ],
      "execution_count": null,
      "outputs": [
        {
          "output_type": "execute_result",
          "data": {
            "text/plain": [
              "4"
            ]
          },
          "metadata": {},
          "execution_count": 1
        }
      ]
    },
    {
      "cell_type": "code",
      "metadata": {
        "id": "7HeYn12pNQ5Z"
      },
      "source": [
        "# Load saved data\n",
        "data=np.load('/content/drive/MyDrive/Dataset/mask_detection/Just_mask_detection/Train/data')\n",
        "labels=np.load'/content/drive/MyDrive/Dataset/mask_detection/Just_mask_detection/Train/labels')\n"
      ],
      "execution_count": null,
      "outputs": []
    },
    {
      "cell_type": "code",
      "metadata": {
        "id": "nthEPp1iYzXa"
      },
      "source": [
        "#construct the training image fenerator for data augumentation\n",
        "\n",
        "aug = ImageDataGenerator(rotation_range=20,\n",
        "                         zoom_range=0.15,\n",
        "                         width_shift_range=0.2,\n",
        "                         height_shift_range=3.2,\n",
        "                         shear_range=0.15,\n",
        "                         horizontal_flip=True,\n",
        "        \n",
        "                 fill_mode='nearest')"
      ],
      "execution_count": null,
      "outputs": []
    },
    {
      "cell_type": "code",
      "metadata": {
        "colab": {
          "base_uri": "https://localhost:8080/"
        },
        "id": "5awMarUgY6MP",
        "outputId": "c85cb340-311f-47a9-b596-6e3e43479269"
      },
      "source": [
        "\n",
        "#load the MobileNetV2 network, ensuring the head FC layer sets are left off\n",
        "baseModel = MobileNetV2(weights='imagenet', include_top = False,\n",
        "                        input_tensor=Input(shape=(224,224,3)))"
      ],
      "execution_count": null,
      "outputs": [
        {
          "output_type": "stream",
          "text": [
            "WARNING:tensorflow:`input_shape` is undefined or non-square, or `rows` is not in [96, 128, 160, 192, 224]. Weights for input shape (224, 224) will be loaded as the default.\n",
            "Downloading data from https://storage.googleapis.com/tensorflow/keras-applications/mobilenet_v2/mobilenet_v2_weights_tf_dim_ordering_tf_kernels_1.0_224_no_top.h5\n",
            "9412608/9406464 [==============================] - 0s 0us/step\n"
          ],
          "name": "stdout"
        }
      ]
    },
    {
      "cell_type": "code",
      "metadata": {
        "id": "i-OBDTpBY6Pp"
      },
      "source": [
        "#construct the head of the model that will be placed on top of the base model\n",
        "\n",
        "headModel=baseModel.output\n",
        "headModel=AveragePooling2D(pool_size=(7,7))(headModel)\n",
        "headModel=Flatten(name='flatten')(headModel)\n",
        "headModel  = Dense(128,activation='relu')(headModel)\n",
        "headModel = Dropout(8,5)(headModel)\n",
        "headModel = Dense(2, activation='softmax')(headModel)"
      ],
      "execution_count": null,
      "outputs": []
    },
    {
      "cell_type": "code",
      "metadata": {
        "id": "vtreIQi1d5tH"
      },
      "source": [
        "len(train)"
      ],
      "execution_count": null,
      "outputs": []
    },
    {
      "cell_type": "code",
      "metadata": {
        "id": "1qoRnaonvLsQ"
      },
      "source": [
        "#place the head FC model on top of the base model and freeze them so they will not be updated during the first training process\n",
        "model = Model(inputs=baseModel.input, outputs=headModel)\n"
      ],
      "execution_count": null,
      "outputs": []
    },
    {
      "cell_type": "code",
      "metadata": {
        "id": "d1Z8Xu1Ur1xY"
      },
      "source": [
        "#loop over all layers in the base model and freeze them so they will nt be \n",
        "#updated during the 1st training process\n",
        "for layer in baseModel.layers:\n",
        "    layer.trainable= False\n",
        "    \n",
        "#compile the head of the netowrk \n",
        "opt= Adam(lr=INIT_LR, decay = INIT_LR / EPOCHS)\n",
        "model.compile(loss='binary_crossentropy',optimizer=opt, metrics=['accuracy'])\n",
        "\n",
        "\n",
        "H= model.fit(aug.flow(trainX,trainY,batch_size=BS),\n",
        "             steps_per_epoch=len(trainX)//BS,\n",
        "             validation_data=(testX,testY),\n",
        "             validation_steps=len(testX) // BS)"
      ],
      "execution_count": null,
      "outputs": []
    },
    {
      "cell_type": "code",
      "metadata": {
        "id": "7IHoigcwr3XM"
      },
      "source": [
        "#make prediction on the testing set\n",
        "\n",
        "predIdxs = model.predict(testX, batch_size=BS)"
      ],
      "execution_count": null,
      "outputs": []
    },
    {
      "cell_type": "code",
      "metadata": {
        "id": "k0Mxnu3kZBpr"
      },
      "source": [
        "#for each image in the testing set we need to find the index of the lable with corresponding largest predicted probability\n",
        "predIdxs=np.argmax(predIdxs,axis=1)"
      ],
      "execution_count": null,
      "outputs": []
    },
    {
      "cell_type": "code",
      "metadata": {
        "id": "JfYjwcNCZHAa"
      },
      "source": [
        "#show nicely  formatted classification report\n",
        "\n",
        "print(classification_report(testY.argmax(axis=1),predIdxs,target_names==lb.classes_))"
      ],
      "execution_count": null,
      "outputs": []
    },
    {
      "cell_type": "code",
      "metadata": {
        "id": "LcjUbKvPZHFU"
      },
      "source": [
        "#serialize the model to disk\n",
        "\n",
        "model.save(\"mask_detection-1.model\",save_format='h5')"
      ],
      "execution_count": null,
      "outputs": []
    },
    {
      "cell_type": "code",
      "metadata": {
        "id": "2YHf3WOnX7Kw"
      },
      "source": [
        ""
      ],
      "execution_count": null,
      "outputs": []
    }
  ]
}